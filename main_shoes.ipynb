{
 "cells": [
  {
   "cell_type": "code",
   "execution_count": 1,
   "metadata": {},
   "outputs": [],
   "source": [
    "import os\n",
    "import subprocess\n",
    "from subprocess import check_output\n",
    "import matplotlib.pyplot as plt\n",
    "import seaborn as sns\n",
    "\n",
    "\n",
    "image_names=os.listdir(\"/Users/gina/shoes/shoes/images/full\")\n",
    "image_percentage = {}"
   ]
  },
  {
   "cell_type": "code",
   "execution_count": 3,
   "metadata": {},
   "outputs": [
    {
     "data": {
      "text/plain": [
       "(array([ 30.,  79., 313., 355., 477., 383., 179., 144.,  69.,  16.]),\n",
       " array([50., 52., 54., 56., 58., 60., 62., 64., 66., 68., 70.]),\n",
       " <a list of 10 Patch objects>)"
      ]
     },
     "execution_count": 3,
     "metadata": {},
     "output_type": "execute_result"
    },
    {
     "data": {
      "image/png": "[encoded data removed]",
      "text/plain": [
       "<Figure size 432x288 with 1 Axes>"
      ]
     },
     "metadata": {
      "needs_background": "light"
     },
     "output_type": "display_data"
    }
   ],
   "source": [
    "for image in image_names:\n",
    "    # print(image)\n",
    "    cmd=['convert', '/Users/gina/shoes/shoes/images/full/'+image, '-threshold', '92%', '-format', \"%[fx:100*image.mean]\", 'info:']\n",
    "    output = float(subprocess.check_output(cmd))\n",
    "    image_percentage[image] = output\n",
    "#     print(image_percentage)\n",
    "plt.hist(image_percentage.values(),range=[50,70])\n",
    "    \n",
    "    \n",
    "    \n",
    "    \n",
    "    "
   ]
  },
  {
   "cell_type": "code",
   "execution_count": 4,
   "metadata": {},
   "outputs": [],
   "source": [
    "for image in image_percentage:\n",
    "    if image_percentage[image] >= 60:\n",
    "        os.rename(\"/Users/gina/shoes/shoes/images/full/\"+image, \"/Users/gina/shoes/shoes/main_shoes/\"+image)"
   ]
  },
  {
   "cell_type": "code",
   "execution_count": null,
   "metadata": {},
   "outputs": [],
   "source": [
    "image_names=os.listdir(\"/Users/gina/shoes/shoes/images/full\")\n",
    "image_percentage = {}\n",
    "for image in image_names:\n",
    "    # print(image)\n",
    "    cmd=['convert', '/Users/gina/shoes/shoes/images/full/'+image, '-threshold', '92%', '-format', \"%[fx:100*image.mean]\", 'info:']\n",
    "    output = float(subprocess.check_output(cmd))\n",
    "    image_percentage[image] = output\n",
    "#     print(image_percentage)\n",
    "plt.hist(image_percentage.values())"
   ]
  },
  {
   "cell_type": "code",
   "execution_count": null,
   "metadata": {},
   "outputs": [],
   "source": []
  }
 ],
 "metadata": {
  "kernelspec": {
   "display_name": "Python 3",
   "language": "python",
   "name": "python3"
  },
  "language_info": {
   "codemirror_mode": {
    "name": "ipython",
    "version": 3
   },
   "file_extension": ".py",
   "mimetype": "text/x-python",
   "name": "python",
   "nbconvert_exporter": "python",
   "pygments_lexer": "ipython3",
   "version": "3.6.8"
  }
 },
 "nbformat": 4,
 "nbformat_minor": 2
}
