{
 "cells": [
  {
   "cell_type": "code",
   "execution_count": 4,
   "metadata": {},
   "outputs": [
    {
     "name": "stderr",
     "output_type": "stream",
     "text": [
      "Using TensorFlow backend.\n"
     ]
    }
   ],
   "source": [
    "import csv\n",
    "import sys\n",
    "import requests\n",
    "import skimage.io\n",
    "import os\n",
    "import glob\n",
    "import pickle\n",
    "import time\n",
    "\n",
    "from IPython.display import display, Image, HTML\n",
    "from keras.applications import VGG16\n",
    "from keras.applications.vgg16 import preprocess_input\n",
    "from keras.preprocessing import image as kimage\n",
    "import numpy as np\n",
    "import pandas as pd\n",
    "import scipy.sparse as sp\n",
    "import skimage.io\n",
    "\n",
    "# sys.path.append('../')\n",
    "import helpers"
   ]
  },
  {
   "cell_type": "code",
   "execution_count": 5,
   "metadata": {},
   "outputs": [],
   "source": [
    "rand_img = np.random.choice(glob.glob('/Users/gina/shoes/shoes/main_shoes/*.jpg'))"
   ]
  },
  {
   "cell_type": "code",
   "execution_count": 6,
   "metadata": {},
   "outputs": [
    {
     "data": {
      "image/jpeg": "[encoded data removed]",
      "text/plain": [
       "<IPython.core.display.Image object>"
      ]
     },
     "execution_count": 6,
     "metadata": {},
     "output_type": "execute_result"
    }
   ],
   "source": [
    "Image(filename=rand_img)"
   ]
  },
  {
   "cell_type": "code",
   "execution_count": 7,
   "metadata": {},
   "outputs": [
    {
     "data": {
      "text/plain": [
       "(280, 280, 3)"
      ]
     },
     "execution_count": 7,
     "metadata": {},
     "output_type": "execute_result"
    }
   ],
   "source": [
    "img = skimage.io.imread(rand_img)\n",
    "img.shape"
   ]
  },
  {
   "cell_type": "code",
   "execution_count": 8,
   "metadata": {},
   "outputs": [
    {
     "name": "stdout",
     "output_type": "stream",
     "text": [
      "(1, 224, 224, 3)\n"
     ]
    }
   ],
   "source": [
    "img = kimage.load_img(rand_img, target_size=(224, 224))\n",
    "x = kimage.img_to_array(img)\n",
    "x = np.expand_dims(x, axis=0)\n",
    "x = preprocess_input(x)\n",
    "print(x.shape)"
   ]
  },
  {
   "cell_type": "code",
   "execution_count": 9,
   "metadata": {},
   "outputs": [],
   "source": [
    "model = VGG16(include_top=False, weights='imagenet')"
   ]
  },
  {
   "cell_type": "code",
   "execution_count": 10,
   "metadata": {},
   "outputs": [
    {
     "name": "stdout",
     "output_type": "stream",
     "text": [
      "(1, 7, 7, 512)\n",
      "(25088,)\n"
     ]
    }
   ],
   "source": [
    "pred = model.predict(x)\n",
    "print(pred.shape)\n",
    "print(pred.ravel().shape)"
   ]
  },
  {
   "cell_type": "code",
   "execution_count": 11,
   "metadata": {},
   "outputs": [
    {
     "name": "stdout",
     "output_type": "stream",
     "text": [
      "289 ms ± 3.7 ms per loop (mean ± std. dev. of 7 runs, 5 loops each)\n"
     ]
    }
   ],
   "source": [
    "%%timeit -n5\n",
    "pred = model.predict(x)"
   ]
  },
  {
   "cell_type": "code",
   "execution_count": 13,
   "metadata": {
    "scrolled": false
   },
   "outputs": [
    {
     "name": "stdout",
     "output_type": "stream",
     "text": [
      "200: 0.0033551812171936034\n",
      "400: 0.0017356526851654052\n",
      "499: 0.000682102176612747\n",
      "Preprocess input\n",
      "0.2121589183807373\n",
      "Predicting\n",
      "140.63612389564514\n",
      "600: 0.0006002298990885417\n",
      "800: 0.000778413712978363\n",
      "998: 0.0006508476031806044\n",
      "Preprocess input\n",
      "0.14566302299499512\n",
      "Predicting\n",
      "141.69146084785461\n",
      "1000: 2.962493896484375e-05\n",
      "1200: 0.0005049284299214681\n",
      "1400: 0.00045412489346095494\n",
      "1497: 0.0002121629122502818\n",
      "Preprocess input\n",
      "0.13828086853027344\n",
      "Predicting\n",
      "138.51496505737305\n",
      "1600: 0.0001907336711883545\n",
      "1800: 0.00027863343556722007\n",
      "1996: 0.00028986479333025183\n",
      "Preprocess input\n",
      "0.13826870918273926\n",
      "Predicting\n",
      "138.10948777198792\n",
      "2000: 1.9701480865478516e-05\n",
      "2200: 0.00026069955392317337\n",
      "2400: 0.00020396918058395385\n",
      "2495: 0.00010798469574035767\n",
      "Preprocess input\n",
      "0.139024019241333\n",
      "Predicting\n",
      "140.46342086791992\n",
      "2563: 7.403152695029591e-05\n",
      "Preprocess input\n",
      "0.01919698715209961\n",
      "Predicting\n",
      "18.856544971466064\n"
     ]
    }
   ],
   "source": [
    "# Grab relevant filenames\n",
    "get_mid = lambda x: x.split(os.path.sep)[-1].split('_')[0]\n",
    "fnames = glob.glob('/Users/gina/shoes/shoes/main_shoes/*.jpg')\n",
    "fnames = [f for f in fnames]\n",
    "\n",
    "idx_to_mid = {}\n",
    "batch_size = 500\n",
    "min_idx = 0\n",
    "max_idx = min_idx + batch_size\n",
    "total_max = len(fnames)\n",
    "n_dims = 25088\n",
    "#pred.ravel().shape[0]\n",
    "px = 224\n",
    "\n",
    "# Initialize predictions matrix\n",
    "preds = sp.lil_matrix((len(fnames), n_dims))\n",
    "\n",
    "while min_idx < total_max - 1:\n",
    "    t0 = time.time()\n",
    "    \n",
    "    X = np.zeros(((max_idx - min_idx), px, px, 3))\n",
    "    \n",
    "    # For each file in batch, \n",
    "    # load as row into X\n",
    "    for i in range(min_idx, max_idx):\n",
    "        fname = fnames[i]\n",
    "        mid = get_mid(fname)\n",
    "        idx_to_mid[i] = mid\n",
    "        img = kimage.load_img(fname, target_size=(px, px))\n",
    "        img_array = kimage.img_to_array(img)\n",
    "        X[i - min_idx, :, :, :] = img_array\n",
    "        if i % 200 == 0 and i != 0:\n",
    "            t1 = time.time()\n",
    "            print('{}: {}'.format(i, (t1 - t0) / i))\n",
    "            t0 = time.time()\n",
    "    max_idx = i\n",
    "    t1 = time.time()\n",
    "    print('{}: {}'.format(i, (t1 - t0) / i))\n",
    "    \n",
    "    print('Preprocess input')\n",
    "    t0 = time.time()\n",
    "    X = preprocess_input(X)\n",
    "    t1 = time.time()\n",
    "    print('{}'.format(t1 - t0))\n",
    "    \n",
    "    print('Predicting')\n",
    "    t0 = time.time()\n",
    "    these_preds = model.predict(X)\n",
    "    shp = ((max_idx - min_idx) + 1, n_dims)\n",
    "    \n",
    "    # Place predictions inside full preds matrix.\n",
    "    preds[min_idx:max_idx + 1, :] = these_preds.reshape(shp)\n",
    "    t1 = time.time()\n",
    "    print('{}'.format(t1 - t0))\n",
    "    \n",
    "    min_idx = max_idx\n",
    "    max_idx = np.min((max_idx + batch_size, total_max))"
   ]
  },
  {
   "cell_type": "code",
   "execution_count": 14,
   "metadata": {},
   "outputs": [],
   "source": [
    "def cosine_similarity(ratings):\n",
    "    sim = ratings.dot(ratings.T)\n",
    "    if not isinstance(sim, np.ndarray):\n",
    "        sim = sim.toarray()\n",
    "    norms = np.array([np.sqrt(np.diagonal(sim))])\n",
    "    return (sim / norms / norms.T)"
   ]
  },
  {
   "cell_type": "code",
   "execution_count": 15,
   "metadata": {},
   "outputs": [],
   "source": [
    "pred = preds.tocsr()\n",
    "sim = cosine_similarity(pred)"
   ]
  },
  {
   "cell_type": "code",
   "execution_count": 16,
   "metadata": {},
   "outputs": [
    {
     "name": "stdout",
     "output_type": "stream",
     "text": [
      "5c3c4395ac05eee21b472bc61c8d529b61549b3e.jpg\n",
      "2bcc6c443a9c43678ade633c65f9016a43ee3209.jpg\n",
      "c5b857e197a5f46af42c2f0b42f65d4ada20f229.jpg\n",
      "8bc94ce5ba67390f0192899391d14f8664d74947.jpg\n",
      "07f0df5e713de34e887956af61e4cf78f4bbe430.jpg\n",
      "6dfef23a4c723456447866e8101c6d84d5d44dfa.jpg\n",
      "a6c27974b6573076e5240523e47ab915bdd75edb.jpg\n",
      "d5d4a7953cf195a5c9e593d73833405a1fa1cab8.jpg\n",
      "69a2366348591f9a3ca4d493b527fdf9b904e130.jpg\n",
      "ff4b6097edffdb0c0974de05df2d91430e36dfbb.jpg\n"
     ]
    }
   ],
   "source": [
    "from PIL import Image\n",
    "import math\n",
    "\n",
    "image_name = \"5c3c4395ac05eee21b472bc61c8d529b61549b3e.jpg\"\n",
    "image_idx = list(filter(lambda x: x[1] == image_name, idx_to_mid.items()))[0][0]\n",
    "row = sim[image_idx, :]\n",
    "new_img = Image.new('RGB', (1025, 425), \"#f8fafc\")\n",
    "i = 0\n",
    "for x in np.argsort(-row)[:10]:\n",
    "    print(idx_to_mid[x])\n",
    "    img = Image.open(\"main_shoes/\"+idx_to_mid[x])\n",
    "    img.thumbnail((200, 200))\n",
    "    pos = ((i % 5) * 210, int(math.floor(i / 5.0) * 210))\n",
    "    i += 1\n",
    "    new_img.paste(img, pos)\n",
    "new_img.show()"
   ]
  },
  {
   "cell_type": "code",
   "execution_count": 17,
   "metadata": {},
   "outputs": [],
   "source": [
    "import pickle\n",
    "pickle.dump(sim, open('similarity_matrix.pkl', 'wb'))\n",
    "pickle.dump(idx_to_mid, open('file_idx.pkl', 'wb'))"
   ]
  },
  {
   "cell_type": "code",
   "execution_count": 18,
   "metadata": {},
   "outputs": [
    {
     "name": "stdout",
     "output_type": "stream",
     "text": [
      "5c3c4395ac05eee21b472bc61c8d529b61549b3e.jpg\n",
      "2bcc6c443a9c43678ade633c65f9016a43ee3209.jpg\n",
      "c5b857e197a5f46af42c2f0b42f65d4ada20f229.jpg\n",
      "8bc94ce5ba67390f0192899391d14f8664d74947.jpg\n",
      "07f0df5e713de34e887956af61e4cf78f4bbe430.jpg\n",
      "6dfef23a4c723456447866e8101c6d84d5d44dfa.jpg\n",
      "a6c27974b6573076e5240523e47ab915bdd75edb.jpg\n",
      "d5d4a7953cf195a5c9e593d73833405a1fa1cab8.jpg\n",
      "69a2366348591f9a3ca4d493b527fdf9b904e130.jpg\n",
      "ff4b6097edffdb0c0974de05df2d91430e36dfbb.jpg\n"
     ]
    }
   ],
   "source": [
    "import pickle\n",
    "from PIL import Image\n",
    "import math\n",
    "sim = pickle.load(open('similarity_matrix.pkl', 'rb'))\n",
    "idx_to_mid = pickle.load(open('file_idx.pkl', 'rb'))\n",
    "image_name = \"5c3c4395ac05eee21b472bc61c8d529b61549b3e.jpg\"\n",
    "image_idx = list(filter(lambda x: x[1] == image_name, idx_to_mid.items()))[0][0]\n",
    "row = sim[image_idx, :]\n",
    "new_img = Image.new('RGB', (1025, 425), \"#f8fafc\")\n",
    "i = 0\n",
    "for x in np.argsort(-row)[:10]:\n",
    "    print(idx_to_mid[x])\n",
    "    img = Image.open(\"main_shoes/\"+idx_to_mid[x])\n",
    "    img.thumbnail((200, 200))\n",
    "    pos = ((i % 5) * 210, int(math.floor(i / 5.0) * 210))\n",
    "    i += 1\n",
    "    new_img.paste(img, pos)\n",
    "new_img.show()"
   ]
  },
  {
   "cell_type": "code",
   "execution_count": null,
   "metadata": {},
   "outputs": [],
   "source": []
  }
 ],
 "metadata": {
  "kernelspec": {
   "display_name": "Python 3",
   "language": "python",
   "name": "python3"
  },
  "language_info": {
   "codemirror_mode": {
    "name": "ipython",
    "version": 3
   },
   "file_extension": ".py",
   "mimetype": "text/x-python",
   "name": "python",
   "nbconvert_exporter": "python",
   "pygments_lexer": "ipython3",
   "version": "3.6.8"
  }
 },
 "nbformat": 4,
 "nbformat_minor": 2
}
